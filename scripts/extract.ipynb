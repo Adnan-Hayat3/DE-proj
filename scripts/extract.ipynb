{
 "cells": [
  {
   "cell_type": "markdown",
   "id": "5dafc938",
   "metadata": {},
   "source": [
    "# Extract data from subreddits "
   ]
  },
  {
   "cell_type": "markdown",
   "id": "422ea189",
   "metadata": {},
   "source": [
    "### Imports"
   ]
  },
  {
   "cell_type": "code",
   "execution_count": 7,
   "id": "48142b8e",
   "metadata": {},
   "outputs": [],
   "source": [
    "import praw \n",
    "import matplotlib\n",
    "from dotenv import load_dotenv\n",
    "import os\n"
   ]
  },
  {
   "cell_type": "markdown",
   "id": "c8d201e6",
   "metadata": {},
   "source": [
    "### Loading creds from .env"
   ]
  },
  {
   "cell_type": "code",
   "execution_count": 8,
   "id": "e8538b8f",
   "metadata": {},
   "outputs": [],
   "source": [
    "load_dotenv()\n",
    "\n",
    "client_id = os.getenv(\"REDDIT_CLIENT_ID\")\n",
    "client_secret = os.getenv(\"REDDIT_CLIENT_SECRET\")\n",
    "user_agent = os.getenv(\"REDDIT_USER_AGENT\")"
   ]
  },
  {
   "cell_type": "markdown",
   "id": "06e9cd83",
   "metadata": {},
   "source": [
    "### Connecting to Reddit API"
   ]
  },
  {
   "cell_type": "code",
   "execution_count": null,
   "id": "981235bf",
   "metadata": {},
   "outputs": [],
   "source": [
    "reddit = praw.Reddit(\n",
    "    client_id = client_id,\n",
    "    client_secret = client_secret,\n",
    "    user_agent = user_agent\n",
    ")\n",
    "\n",
    "# # Testing connection\n",
    "subreddit = reddit.subreddit(\"dataengineering\")\n",
    "print(f\"Subreddit Title: {subreddit.title}\")\n",
    "print(f\"Subreddit Description: {subreddit.description}\")\n",
    "print(f\"Subreddit Subscribers: {subreddit.subscribers}\")"
   ]
  },
  {
   "cell_type": "markdown",
   "id": "0a224dfe",
   "metadata": {},
   "source": [
    "### Ingest Data from top 10 posts for this week"
   ]
  },
  {
   "cell_type": "code",
   "execution_count": null,
   "id": "7ee55659",
   "metadata": {},
   "outputs": [
    {
     "name": "stdout",
     "output_type": "stream",
     "text": [
      "[{'title': 'You can become a millionaire working in Data', 'score': 2658, 'url': 'https://i.redd.it/tk3ipjstr0we1.png', 'num_comments': 81, 'created_utc': 1745167815.0}, {'title': 'WTF that guy just wrote a database in 2 lines of bash', 'score': 732, 'url': 'https://i.redd.it/nqcgrkcm0twe1.png', 'num_comments': 103, 'created_utc': 1745509742.0}, {'title': 'Apache Airflow 3.0 is here – and it’s a big one!', 'score': 452, 'url': 'https://www.reddit.com/r/dataengineering/comments/1k5b6kr/apache_airflow_30_is_here_and_its_a_big_one/', 'num_comments': 56, 'created_utc': 1745340613.0}, {'title': '𝐃𝐨𝐨𝐫𝐃𝐚𝐬𝐡 𝐃𝐚𝐭𝐚 𝐓𝐞𝐜𝐡 𝐒𝐭𝐚𝐜𝐤', 'score': 253, 'url': 'https://i.redd.it/lj3dfdf3j7xe1.jpeg', 'num_comments': 24, 'created_utc': 1745685746.0}, {'title': 'Apache Airflow® 3 is Generally Available!', 'score': 124, 'url': 'https://www.reddit.com/r/dataengineering/comments/1k5bc5m/apache_airflow_3_is_generally_available/', 'num_comments': 8, 'created_utc': 1745340989.0}, {'title': 'Is the title “Data Engineer” losing its value?', 'score': 107, 'url': 'https://www.reddit.com/r/dataengineering/comments/1k5z8oa/is_the_title_data_engineer_losing_its_value/', 'num_comments': 55, 'created_utc': 1745415084.0}, {'title': 'Interviewed for Data Engineer, offer says Software Engineer — is this normal?', 'score': 100, 'url': 'https://www.reddit.com/r/dataengineering/comments/1k6749b/interviewed_for_data_engineer_offer_says_software/', 'num_comments': 55, 'created_utc': 1745434319.0}, {'title': 'What was Python before Python?', 'score': 82, 'url': 'https://www.reddit.com/r/dataengineering/comments/1k4p9mm/what_was_python_before_python/', 'num_comments': 90, 'created_utc': 1745271068.0}, {'title': 'Best hosting/database for data engineering projects?', 'score': 62, 'url': 'https://www.reddit.com/r/dataengineering/comments/1k6i2pb/best_hostingdatabase_for_data_engineering_projects/', 'num_comments': 22, 'created_utc': 1745463850.0}, {'title': 'Am I even a data engineer?', 'score': 53, 'url': 'https://www.reddit.com/r/dataengineering/comments/1k5pclz/am_i_even_a_data_engineer/', 'num_comments': 23, 'created_utc': 1745378285.0}]\n"
     ]
    }
   ],
   "source": [
    "posts = subreddit.top(time_filter = \"week\", limit=10)\n",
    "\n",
    "data = []\n",
    "\n",
    "for post in posts:\n",
    "    data.append({\n",
    "        \"title\": post.title,\n",
    "        \"score\": post.score,\n",
    "        \"url\": post.url,\n",
    "        \"num_comments\": post.num_comments,\n",
    "        \"created_utc\": post.created_utc\n",
    "    })\n",
    "\n",
    "# Print the data\n",
    "print(data)"
   ]
  },
  {
   "cell_type": "code",
   "execution_count": null,
   "id": "da317e63",
   "metadata": {},
   "outputs": [],
   "source": []
  }
 ],
 "metadata": {
  "kernelspec": {
   "display_name": "venv",
   "language": "python",
   "name": "python3"
  },
  "language_info": {
   "codemirror_mode": {
    "name": "ipython",
    "version": 3
   },
   "file_extension": ".py",
   "mimetype": "text/x-python",
   "name": "python",
   "nbconvert_exporter": "python",
   "pygments_lexer": "ipython3",
   "version": "3.10.12"
  }
 },
 "nbformat": 4,
 "nbformat_minor": 5
}
