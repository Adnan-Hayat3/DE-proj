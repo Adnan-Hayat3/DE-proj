{
 "cells": [
  {
   "cell_type": "markdown",
   "id": "5dafc938",
   "metadata": {},
   "source": [
    "# Extract data from subreddits "
   ]
  },
  {
   "cell_type": "markdown",
   "id": "422ea189",
   "metadata": {},
   "source": [
    "### Imports"
   ]
  },
  {
   "cell_type": "code",
   "execution_count": 161,
   "id": "48142b8e",
   "metadata": {},
   "outputs": [],
   "source": [
    "import praw \n",
    "import pandas as pd\n",
    "import matplotlib as m\n",
    "from dotenv import load_dotenv\n",
    "from pathlib import Path\n",
    "import os"
   ]
  },
  {
   "cell_type": "markdown",
   "id": "c8d201e6",
   "metadata": {},
   "source": [
    "### Loading creds from .env"
   ]
  },
  {
   "cell_type": "code",
   "execution_count": 162,
   "id": "e8538b8f",
   "metadata": {},
   "outputs": [],
   "source": [
    "load_dotenv()\n",
    "\n",
    "client_id = os.getenv(\"REDDIT_CLIENT_ID\")\n",
    "client_secret = os.getenv(\"REDDIT_CLIENT_SECRET\")\n",
    "user_agent = os.getenv(\"REDDIT_USER_AGENT\")"
   ]
  },
  {
   "cell_type": "markdown",
   "id": "06e9cd83",
   "metadata": {},
   "source": [
    "### Connecting to Reddit API"
   ]
  },
  {
   "cell_type": "code",
   "execution_count": 163,
   "id": "981235bf",
   "metadata": {},
   "outputs": [],
   "source": [
    "reddit = praw.Reddit(\n",
    "    client_id = client_id,\n",
    "    client_secret = client_secret,\n",
    "    user_agent = user_agent\n",
    ")\n",
    "\n",
    "## Testing connection\n",
    "subreddit = reddit.subreddit(\"dataengineering\")\n",
    "\n",
    "\n",
    "\n",
    "# print(f\"Subreddit Title: {subreddit.title}\")\n",
    "# print(f\"Subreddit Description: {subreddit.description}\")\n",
    "# print(f\"Subreddit Subscribers: {subreddit.subscribers}\")"
   ]
  },
  {
   "cell_type": "markdown",
   "id": "0a224dfe",
   "metadata": {},
   "source": [
    "### Ingest Data from top 15 posts for this week"
   ]
  },
  {
   "cell_type": "code",
   "execution_count": null,
   "id": "7ee55659",
   "metadata": {},
   "outputs": [],
   "source": [
    "posts = subreddit.top(time_filter = \"week\", limit=15)\n",
    "\n",
    "data = []\n",
    "removed_data = []\n",
    "meme_data = []\n",
    "\n",
    "# Only insert top 15 posts which have more than 20 upvotes and more than 10 comments. Also remove any posts with the flair \"meme\".\n",
    "for post in posts:\n",
    "    if post.score < 20 or post.num_comments < 10:\n",
    "        removed_data.append({\"title\":post.title ,\"score\": post.score, \"num_comments\": post.num_comments})\n",
    "        continue\n",
    "    elif post.link_flair_text and post.link_flair_text == \"Meme\":\n",
    "        meme_data.append({\"title\":post.title ,\"score\": post.score, \"num_comments\": post.num_comments})\n",
    "        continue\n",
    "    else:\n",
    "        data.append({\n",
    "            \"title\": post.title,\n",
    "            \"score\": post.score,\n",
    "            \"url\": post.url,\n",
    "            \"num_comments\": post.num_comments,\n",
    "            \"created_utc\": post.created_utc\n",
    "        })\n",
    "\n",
    "# Print the data\n",
    "df = pd.DataFrame(data)\n",
    "df_delete = pd.DataFrame(removed_data)\n",
    "df_meme = pd.DataFrame(meme_data)\n",
    "print(\"Number of titles saved:\", df['title'].count())\n",
    "print(\"\\n------------------------\")\n",
    "print(\"Removed following posts:\")\n",
    "print(\"\\n\", df_delete)\n",
    "print(\"\\n------------------------\")\n",
    "print(\"Removed following memes:\")\n",
    "print(\"\\n\", df_meme)"
   ]
  },
  {
   "cell_type": "markdown",
   "id": "6a1cd4e9",
   "metadata": {},
   "source": [
    "### Convert to .csv format and save to Bronze Layer"
   ]
  },
  {
   "cell_type": "code",
   "execution_count": 165,
   "id": "da317e63",
   "metadata": {},
   "outputs": [],
   "source": [
    "BASE_DIR = Path().resolve().parent  \n",
    "\n",
    "output_path = BASE_DIR / 'data' / 'bronze' / 'raw_reddit_posts.csv'\n",
    "\n",
    "df.to_csv(output_path, index=False)"
   ]
  }
 ],
 "metadata": {
  "kernelspec": {
   "display_name": "Python 3",
   "language": "python",
   "name": "python3"
  },
  "language_info": {
   "codemirror_mode": {
    "name": "ipython",
    "version": 3
   },
   "file_extension": ".py",
   "mimetype": "text/x-python",
   "name": "python",
   "nbconvert_exporter": "python",
   "pygments_lexer": "ipython3",
   "version": "3.13.0"
  }
 },
 "nbformat": 4,
 "nbformat_minor": 5
}
