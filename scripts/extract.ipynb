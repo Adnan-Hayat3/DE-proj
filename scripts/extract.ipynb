{
 "cells": [
  {
   "cell_type": "markdown",
   "id": "5dafc938",
   "metadata": {},
   "source": [
    "# Extract data from subreddits "
   ]
  },
  {
   "cell_type": "markdown",
   "id": "422ea189",
   "metadata": {},
   "source": [
    "### Imports"
   ]
  },
  {
   "cell_type": "code",
   "execution_count": 57,
   "id": "48142b8e",
   "metadata": {},
   "outputs": [],
   "source": [
    "import praw \n",
    "import pandas as pd\n",
    "import matplotlib as m\n",
    "from dotenv import load_dotenv\n",
    "from pathlib import Path\n",
    "import os"
   ]
  },
  {
   "cell_type": "markdown",
   "id": "c8d201e6",
   "metadata": {},
   "source": [
    "### Loading creds from .env"
   ]
  },
  {
   "cell_type": "code",
   "execution_count": 58,
   "id": "e8538b8f",
   "metadata": {},
   "outputs": [],
   "source": [
    "load_dotenv()\n",
    "\n",
    "client_id = os.getenv(\"REDDIT_CLIENT_ID\")\n",
    "client_secret = os.getenv(\"REDDIT_CLIENT_SECRET\")\n",
    "user_agent = os.getenv(\"REDDIT_USER_AGENT\")"
   ]
  },
  {
   "cell_type": "markdown",
   "id": "06e9cd83",
   "metadata": {},
   "source": [
    "### Connecting to Reddit API"
   ]
  },
  {
   "cell_type": "code",
   "execution_count": 59,
   "id": "981235bf",
   "metadata": {},
   "outputs": [],
   "source": [
    "reddit = praw.Reddit(\n",
    "    client_id = client_id,\n",
    "    client_secret = client_secret,\n",
    "    user_agent = user_agent\n",
    ")\n",
    "\n",
    "## Testing connection\n",
    "subreddit = reddit.subreddit(\"dataengineering\")\n",
    "# print(f\"Subreddit Title: {subreddit.title}\")\n",
    "# print(f\"Subreddit Description: {subreddit.description}\")\n",
    "# print(f\"Subreddit Subscribers: {subreddit.subscribers}\")"
   ]
  },
  {
   "cell_type": "markdown",
   "id": "0a224dfe",
   "metadata": {},
   "source": [
    "### Ingest Data from top 10 posts for this week"
   ]
  },
  {
   "cell_type": "code",
   "execution_count": 60,
   "id": "7ee55659",
   "metadata": {},
   "outputs": [],
   "source": [
    "posts = subreddit.top(time_filter = \"week\", limit=10)\n",
    "\n",
    "data = []\n",
    "\n",
    "for post in posts:\n",
    "    data.append({\n",
    "        \"title\": post.title,\n",
    "        \"score\": post.score,\n",
    "        \"url\": post.url,\n",
    "        \"num_comments\": post.num_comments,\n",
    "        \"created_utc\": post.created_utc\n",
    "    })\n",
    "\n",
    "# Print the data\n",
    "# df = pd.DataFrame(data)\n",
    "# df['created_utc'] = pd.to_datetime(df['created_utc'], unit='s')\n",
    "# print(df[['title','score','num_comments','url']])"
   ]
  },
  {
   "cell_type": "markdown",
   "id": "6a1cd4e9",
   "metadata": {},
   "source": [
    "### Convert to .csv format and save to Bronze Layer"
   ]
  },
  {
   "cell_type": "code",
   "execution_count": 61,
   "id": "da317e63",
   "metadata": {},
   "outputs": [],
   "source": [
    "BASE_DIR = Path().resolve().parent  \n",
    "\n",
    "output_path = BASE_DIR / 'data' / 'bronze' / 'raw_reddit_posts.csv'\n",
    "\n",
    "df.to_csv(output_path, index=False)"
   ]
  }
 ],
 "metadata": {
  "kernelspec": {
   "display_name": "Python 3",
   "language": "python",
   "name": "python3"
  },
  "language_info": {
   "codemirror_mode": {
    "name": "ipython",
    "version": 3
   },
   "file_extension": ".py",
   "mimetype": "text/x-python",
   "name": "python",
   "nbconvert_exporter": "python",
   "pygments_lexer": "ipython3",
   "version": "3.13.0"
  }
 },
 "nbformat": 4,
 "nbformat_minor": 5
}
