{
 "cells": [
  {
   "cell_type": "markdown",
   "metadata": {},
   "source": [
    "# Transofrm the dervied data"
   ]
  },
  {
   "cell_type": "markdown",
   "metadata": {},
   "source": [
    "## Imports"
   ]
  },
  {
   "cell_type": "code",
   "execution_count": 68,
   "metadata": {},
   "outputs": [],
   "source": [
    "import praw \n",
    "import pandas as pd\n",
    "import matplotlib as m\n",
    "from dotenv import load_dotenv\n",
    "from pathlib import Path\n",
    "import os"
   ]
  },
  {
   "cell_type": "markdown",
   "metadata": {},
   "source": [
    "## Reading from Bronze Layer"
   ]
  },
  {
   "cell_type": "code",
   "execution_count": null,
   "metadata": {},
   "outputs": [],
   "source": [
    "BASE_DIR = Path().resolve().parent  \n",
    "\n",
    "bronze_file_path = BASE_DIR / 'data' / 'bronze' / 'raw_reddit_posts.csv'\n",
    "\n",
    "if bronze_file_path.exists():\n",
    "    subreddit_df = pd.read_csv(bronze_file_path)\n",
    "    print(\"Path successfully read\")\n",
    "else:\n",
    "    print(f\"Path {bronze_file_path} not found!\")\n",
    "\n",
    "# print(subreddit_df)"
   ]
  },
  {
   "cell_type": "markdown",
   "metadata": {},
   "source": [
    "## Clean the data"
   ]
  },
  {
   "cell_type": "markdown",
   "metadata": {},
   "source": [
    "### Check for nulls"
   ]
  },
  {
   "cell_type": "code",
   "execution_count": null,
   "metadata": {},
   "outputs": [],
   "source": [
    "if subreddit_df.isnull().values.any():\n",
    "    # Storing the null cols for display\n",
    "    null_cols = subreddit_df.columns[subreddit_df.isnull().any()].tolist()\n",
    "    print(f\"Null columns found: {null_cols}\")\n",
    "\n",
    "    # Dropping null values\n",
    "    subreddit_df.dropna(inplace=True)\n",
    "else:\n",
    "    print(\"No nulls were found!\")"
   ]
  },
  {
   "cell_type": "markdown",
   "metadata": {},
   "source": [
    "### Filter out irrelevant posts"
   ]
  },
  {
   "cell_type": "code",
   "execution_count": null,
   "metadata": {},
   "outputs": [],
   "source": [
    "# filter out the posts that have irrelevant words in the title\n",
    "if subreddit_df['title'].str.contains(\"questions|question|help|advice|suggestions\", case=False,na=False).values.any():\n",
    "    \n",
    "    # Storing irrelevant titles for display\n",
    "    irrelevant_titles = subreddit_df[subreddit_df['title'].str.contains(\"questions|question|help|advice|suggestions\", case=False,na=False)]['title'].tolist()\n",
    "    \n",
    "    # Removing irrelevant titles for display\n",
    "    subreddit_df = subreddit_df[~subreddit_df['title'].str.contains(\"questions|question|help|advice|suggestions\", case=False,na=False)]\n",
    "    \n",
    "    print(f\"Titles removed: {irrelevant_titles}\") \n",
    "else:\n",
    "    print(\"No irrelevant words found in the title!\")"
   ]
  },
  {
   "cell_type": "markdown",
   "metadata": {},
   "source": [
    "### Remove unwanted characters"
   ]
  },
  {
   "cell_type": "markdown",
   "metadata": {},
   "source": []
  },
  {
   "cell_type": "markdown",
   "metadata": {},
   "source": [
    "## Load to Silver Layer"
   ]
  },
  {
   "cell_type": "markdown",
   "metadata": {},
   "source": []
  }
 ],
 "metadata": {
  "kernelspec": {
   "display_name": "Python 3",
   "language": "python",
   "name": "python3"
  },
  "language_info": {
   "codemirror_mode": {
    "name": "ipython",
    "version": 3
   },
   "file_extension": ".py",
   "mimetype": "text/x-python",
   "name": "python",
   "nbconvert_exporter": "python",
   "pygments_lexer": "ipython3",
   "version": "3.13.0"
  }
 },
 "nbformat": 4,
 "nbformat_minor": 2
}
