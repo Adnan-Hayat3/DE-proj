{
 "cells": [
  {
   "cell_type": "markdown",
   "metadata": {},
   "source": [
    "# Transofrm the dervied data"
   ]
  },
  {
   "cell_type": "markdown",
   "metadata": {},
   "source": [
    "## Imports"
   ]
  },
  {
   "cell_type": "code",
   "execution_count": 139,
   "metadata": {},
   "outputs": [],
   "source": [
    "import praw \n",
    "import pandas as pd\n",
    "import matplotlib as m\n",
    "from dotenv import load_dotenv\n",
    "from pathlib import Path\n",
    "import os"
   ]
  },
  {
   "cell_type": "markdown",
   "metadata": {},
   "source": [
    "## Reading from Bronze Layer"
   ]
  },
  {
   "cell_type": "code",
   "execution_count": null,
   "metadata": {},
   "outputs": [],
   "source": [
    "BASE_DIR = Path().resolve().parent\n",
    "\n",
    "bronze_file_path = BASE_DIR / 'data' / 'bronze' / 'raw_reddit_posts.csv'\n",
    "\n",
    "if bronze_file_path.exists():\n",
    "    subreddit_df = pd.read_csv(bronze_file_path)\n",
    "    print(\"Path successfully read\")\n",
    "else:\n",
    "    print(f\"Path {bronze_file_path} not found!\")\n",
    "\n",
    "print(\"Printing extracted data ...\")\n",
    "print(subreddit_df)"
   ]
  },
  {
   "cell_type": "markdown",
   "metadata": {},
   "source": [
    "## Clean the data"
   ]
  },
  {
   "cell_type": "markdown",
   "metadata": {},
   "source": [
    "### Check for nulls"
   ]
  },
  {
   "cell_type": "code",
   "execution_count": null,
   "metadata": {},
   "outputs": [],
   "source": [
    "if subreddit_df.isnull().values.any():\n",
    "    # Storing the null cols for display\n",
    "    null_cols = subreddit_df.columns[subreddit_df.isnull().any()].tolist()\n",
    "\n",
    "    # Dropping null values\n",
    "    subreddit_df.dropna(inplace=True)\n",
    "\n",
    "    print(f\"Null columns found: {null_cols}\")\n",
    "\n",
    "else:\n",
    "    print(\"No nulls were found!\")"
   ]
  },
  {
   "cell_type": "markdown",
   "metadata": {},
   "source": [
    "### Filter out irrelevant posts"
   ]
  },
  {
   "cell_type": "code",
   "execution_count": null,
   "metadata": {},
   "outputs": [],
   "source": [
    "# filter out the posts that have irrelevant words in the title\n",
    "if subreddit_df['title'].str.contains(\"questions|question|help|advice|suggestions\", case=False,na=False).values.any():\n",
    "    \n",
    "    # Storing irrelevant titles for display\n",
    "    irrelevant_titles = subreddit_df[subreddit_df['title'].str.contains(\"questions|question|help|advice|suggestions\", case=False,na=False)]['title'].tolist()\n",
    "    \n",
    "    # Removing data with irrelevant titles\n",
    "    subreddit_df = subreddit_df[~subreddit_df['title'].str.contains(\"questions|question|help|advice|suggestions\", case=False,na=False)]\n",
    "    \n",
    "    print(f\"Titles removed: {irrelevant_titles}\") \n",
    "\n",
    "else:\n",
    "    print(\"No irrelevant words found in the title!\")"
   ]
  },
  {
   "cell_type": "markdown",
   "metadata": {},
   "source": [
    "### Drop titles less than 5 character"
   ]
  },
  {
   "cell_type": "code",
   "execution_count": null,
   "metadata": {},
   "outputs": [],
   "source": [
    "if (subreddit_df['title'].str.len() < 5).any():\n",
    "\n",
    "    # Storing irrelevant titles for display\n",
    "    irrelevant_titles = subreddit_df[subreddit_df['title'].str.len() < 5]['title'].tolist()\n",
    "    \n",
    "    # Removing titles that have less than 5 characters\n",
    "    subreddit_df = subreddit_df[subreddit_df['title'].str.len() >= 5]\n",
    "\n",
    "    print(f\"Titles removed: {irrelevant_titles}\")\n",
    "else:\n",
    "    print(\"No titles with less than 5 words found!\")"
   ]
  },
  {
   "cell_type": "markdown",
   "metadata": {},
   "source": [
    "### Drop titles which don't point to Reddit (eg. not starting with http)"
   ]
  },
  {
   "cell_type": "code",
   "execution_count": null,
   "metadata": {},
   "outputs": [],
   "source": [
    "if subreddit_df['url'].str.startswith('http://').any():\n",
    "\n",
    "    # Storing irrelevant urls for display\n",
    "    irrelevant_urls = subreddit_df[subreddit_df['url'].str.startswith('http://')]['url'].to_list()\n",
    "\n",
    "    # Removing data that has urls starting with http\n",
    "    subreddit_df = subreddit_df[~subreddit_df['url'].str.startswith('http://')]\n",
    "    \n",
    "    print(f\"URLs removed: {irrelevant_urls}\")\n",
    "else:\n",
    "    print(\"No urls starting with http found!\")"
   ]
  },
  {
   "cell_type": "markdown",
   "metadata": {},
   "source": [
    "### Remove unwanted characters"
   ]
  },
  {
   "cell_type": "code",
   "execution_count": null,
   "metadata": {},
   "outputs": [],
   "source": []
  },
  {
   "cell_type": "markdown",
   "metadata": {},
   "source": [
    "## Load to Silver Layer"
   ]
  },
  {
   "cell_type": "code",
   "execution_count": null,
   "metadata": {},
   "outputs": [],
   "source": []
  }
 ],
 "metadata": {
  "kernelspec": {
   "display_name": "Python 3",
   "language": "python",
   "name": "python3"
  },
  "language_info": {
   "codemirror_mode": {
    "name": "ipython",
    "version": 3
   },
   "file_extension": ".py",
   "mimetype": "text/x-python",
   "name": "python",
   "nbconvert_exporter": "python",
   "pygments_lexer": "ipython3",
   "version": "3.13.0"
  }
 },
 "nbformat": 4,
 "nbformat_minor": 2
}
